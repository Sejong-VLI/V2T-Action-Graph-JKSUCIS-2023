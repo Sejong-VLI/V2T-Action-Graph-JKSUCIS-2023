{
 "cells": [
  {
   "cell_type": "code",
   "execution_count": 7,
   "id": "68b4fa81-0d47-4143-995c-43ee2078732f",
   "metadata": {},
   "outputs": [],
   "source": [
    "import h5py\n",
    "import math\n",
    "import numpy as np\n",
    "from numpy import dot\n",
    "from numpy.linalg import norm\n",
    "from tqdm import tqdm\n"
   ]
  },
  {
   "cell_type": "code",
   "execution_count": 8,
   "id": "69c6ea17-be42-4597-b1d9-f72dc42f09aa",
   "metadata": {},
   "outputs": [],
   "source": [
    "NUM_NODES = 9"
   ]
  },
  {
   "cell_type": "code",
   "execution_count": 15,
   "id": "d76ac4f1-cd54-424e-ad65-e0346e30f85e",
   "metadata": {},
   "outputs": [],
   "source": [
    "def cossim(a, b):\n",
    "    return dot(a, b)/(norm(a)*norm(b))"
   ]
  },
  {
   "cell_type": "markdown",
   "id": "de00e96d-6ac8-4dfc-ab69-962f17a53dd9",
   "metadata": {},
   "source": [
    "## MSVD"
   ]
  },
  {
   "cell_type": "code",
   "execution_count": null,
   "id": "387a8d50-20cb-47ea-8f55-4329332bd435",
   "metadata": {},
   "outputs": [],
   "source": [
    "NODE_FEATURES = '<Path to the node features>.hdf5' # can be object-based or grid-based\n",
    "SAVE_FILE = \"<Desired file name>.hdf5\""
   ]
  },
  {
   "cell_type": "code",
   "execution_count": 16,
   "id": "74e5120c-481a-4bb8-8410-f454ccf71288",
   "metadata": {},
   "outputs": [
    {
     "name": "stderr",
     "output_type": "stream",
     "text": [
      "100%|███████████████████████████████████████| 1970/1970 [00:49<00:00, 40.06it/s]\n"
     ]
    }
   ],
   "source": [
    "with h5py.File(NODE_FEATURES, 'r') as fp, h5py.File(SAVE_FILE, 'w') as f:\n",
    "    # loop through all MSVD video\n",
    "    for vidid in tqdm(range(1, 1971)):\n",
    "        video_id = 'vid'+str(vidid)\n",
    "        for frid in range(20):\n",
    "            curr_node_feat = fp['vid'+str(vidid)+'-'+str(frid)][:]\n",
    "            if frid == 0:\n",
    "                prev_node_feat = curr_node_feat\n",
    "                continue\n",
    "            # create temp zero tensor of num_nodes\n",
    "            Gt_temp = [[0.0] * NUM_NODES for i in range(NUM_NODES)]\n",
    "            \n",
    "            for k in range(len(prev_node_feat)):\n",
    "                for l in range(len(curr_node_feat)):\n",
    "                    if (np.sum(prev_node_feat[k])==0 or np.sum(curr_node_feat[l])==0):\n",
    "                        continue\n",
    "                        \n",
    "                    # calculate the similarity between previous node and current node\n",
    "                    Gt_temp[k][l] = math.exp(cossim(prev_node_feat[k], curr_node_feat[l]))\n",
    "                    if np.isnan(Gt_temp[k][l]):\n",
    "                        print(prev_node_feat[k])\n",
    "                        print(curr_node_feat[l])\n",
    "                        \n",
    "            Gt = [[0.0] * NUM_NODES for i in range(NUM_NODES)]\n",
    "            for k in range(len(prev_node_feat)):\n",
    "                for l in range(len(curr_node_feat)):\n",
    "                    if (np.sum(prev_node_feat[k])==0 or np.sum(curr_node_feat[l])==0):\n",
    "                        continue\n",
    "                    Gt[k][l] = Gt_temp[k][l]/sum(Gt_temp[k])\n",
    "                \n",
    "            \n",
    "            prev_node_feat = curr_node_feat\n",
    "            f.create_dataset(video_id+'-'+str(frid), data = Gt)         \n",
    "    "
   ]
  },
  {
   "cell_type": "code",
   "execution_count": null,
   "id": "abda42c9-340a-4515-9ed5-f726c0b4663c",
   "metadata": {},
   "outputs": [],
   "source": []
  },
  {
   "cell_type": "markdown",
   "id": "e8bfb532-8a92-4f5f-9b1f-b59bebe4b0dc",
   "metadata": {},
   "source": [
    "## MSRVTT"
   ]
  },
  {
   "cell_type": "code",
   "execution_count": null,
   "id": "742cbd39-e76b-4cc5-8eb4-a0df79ac1282",
   "metadata": {},
   "outputs": [],
   "source": [
    "NODE_FEATURES = '<Path to the node features>.hdf5' # can be object-based or grid-based\n",
    "SAVE_FILE = \"<Desired file name>.hdf5\""
   ]
  },
  {
   "cell_type": "code",
   "execution_count": null,
   "id": "92e85ce3-65c6-4050-b700-99d95039016b",
   "metadata": {},
   "outputs": [],
   "source": [
    "with h5py.File(NODE_FEATURES, 'r') as fp, h5py.File(SAVE_FILE, 'w') as f:\n",
    "    # loop through all MSR-VTT video\n",
    "    for vidid in tqdm(range(0, 10000)):\n",
    "        video_id = 'video'+str(vidid)\n",
    "        for frid in range(20):\n",
    "            curr_node_feat = fp['video'+str(vidid)+'-'+str(frid)][:]\n",
    "            if frid == 0:\n",
    "                prev_node_feat = curr_node_feat\n",
    "                continue\n",
    "            # create temp zero tensor of num_nodes   \n",
    "            Gt_temp = [[0.0] * NUM_NODES for i in range(NUM_NODES)]\n",
    "            \n",
    "            for k in range(len(prev_node_feat)):\n",
    "                for l in range(len(curr_node_feat)):\n",
    "                    if (np.sum(prev_node_feat[k])==0 or np.sum(curr_node_feat[k])==0):\n",
    "                        continue\n",
    "                        \n",
    "                    # calculate the similarity between previous node and current node\n",
    "                    Gt_temp[k][l] = math.exp(cossim(prev_node_feat[k], curr_node_feat[l]))\n",
    "                    if np.isnan(Gt_temp[k][l]):\n",
    "                        print(prev_node_feat[k])\n",
    "                        print(curr_node_feat[l])\n",
    "                        \n",
    "            Gt = [[0.0] * NUM_NODES for i in range(NUM_NODES)]\n",
    "            for k in range(len(prev_node_feat)):\n",
    "                for l in range(len(curr_node_feat)):\n",
    "                    if (np.sum(prev_node_feat[k])==0 or np.sum(curr_node_feat[k])==0):\n",
    "                        continue\n",
    "                    Gt[k][l] = Gt_temp[k][l]/sum(Gt_temp[k])\n",
    "                \n",
    "            \n",
    "            prev_node_feat = curr_node_feat\n",
    "            f.create_dataset(video_id+'-'+str(frid), data = Gt)           "
   ]
  },
  {
   "cell_type": "code",
   "execution_count": null,
   "id": "473310c0-8637-44fd-9bd7-9e781bba484f",
   "metadata": {},
   "outputs": [],
   "source": []
  }
 ],
 "metadata": {
  "kernelspec": {
   "display_name": "Python 3 (ipykernel)",
   "language": "python",
   "name": "python3"
  },
  "language_info": {
   "codemirror_mode": {
    "name": "ipython",
    "version": 3
   },
   "file_extension": ".py",
   "mimetype": "text/x-python",
   "name": "python",
   "nbconvert_exporter": "python",
   "pygments_lexer": "ipython3",
   "version": "3.8.8"
  }
 },
 "nbformat": 4,
 "nbformat_minor": 5
}
