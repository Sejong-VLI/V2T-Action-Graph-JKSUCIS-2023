{
 "cells": [
  {
   "cell_type": "code",
   "execution_count": 1,
   "metadata": {},
   "outputs": [],
   "source": [
    "import os\n",
    "import cv2\n",
    "import numpy as np\n",
    "from numpy import dot\n",
    "from numpy.linalg import norm\n",
    "import sys\n",
    "import glob\n",
    "import json\n",
    "import h5py\n",
    "import math\n",
    "from tqdm import tqdm\n",
    "import torch\n",
    "import torchvision\n",
    "import torchvision.transforms as transforms\n",
    "import torchvision.models as models\n",
    "import pathlib\n",
    "import sparse\n",
    "import pickle\n",
    "\n",
    "device = torch.device('cuda')"
   ]
  },
  {
   "cell_type": "markdown",
   "metadata": {},
   "source": [
    "## Generate Spatio-Temporal Graph"
   ]
  },
  {
   "cell_type": "markdown",
   "metadata": {},
   "source": [
    "#### Path Specification"
   ]
  },
  {
   "cell_type": "code",
   "execution_count": 2,
   "metadata": {},
   "outputs": [],
   "source": [
    "# Argument\n",
    "class args:\n",
    "    dataset = 'msvd' # or dataset = 'msrvtt'    \n",
    "    num_edge_feat = 1024 # Dimension of edge feature"
   ]
  },
  {
   "cell_type": "code",
   "execution_count": 3,
   "metadata": {},
   "outputs": [],
   "source": [
    "# Output ST Graph path\n",
    "path_to_saved_models = \"extracted/\"+args.dataset\n",
    "pathlib.Path(path_to_saved_models).mkdir(parents=True, exist_ok=True)"
   ]
  },
  {
   "cell_type": "code",
   "execution_count": 6,
   "metadata": {},
   "outputs": [],
   "source": [
    "# Load spatial and temporal features\n",
    "try:\n",
    "    sf_file =path_to_saved_models+'/<Path to spatial graph>.hdf5'\n",
    "    ft_file =path_to_saved_models+'/<Path to temporal graph>.hdf5'\n",
    "    \n",
    "    save_file = path_to_saved_models+'/<Desired filename>.hdf5'\n",
    "    \n",
    "    fs = h5py.File(sf_file,'r')\n",
    "    ft = h5py.File(ft_file,'r')\n",
    "except Exception as e:\n",
    "    print(e)"
   ]
  },
  {
   "cell_type": "markdown",
   "metadata": {},
   "source": [
    "#### Preprocess Values From Spatial and Temporal Feature"
   ]
  },
  {
   "cell_type": "code",
   "execution_count": 7,
   "metadata": {
    "tags": []
   },
   "outputs": [
    {
     "name": "stderr",
     "output_type": "stream",
     "text": [
      "100%|████████████████████████████████████| 39400/39400 [04:57<00:00, 132.40it/s]\n"
     ]
    }
   ],
   "source": [
    "# Load values from spatial graph\n",
    "num_object = 9\n",
    "\n",
    "sgraph_list = {}\n",
    "tgraph_list = {}\n",
    "count = 0\n",
    "for i,key in tqdm(enumerate(fs.keys()), total=len(fs.keys())):\n",
    "    a = key.split('-')\n",
    "\n",
    "    sgraph = fs[key][:]\n",
    "    temp=[]\n",
    "    for k in range(num_object):\n",
    "        for l in range(num_object):\n",
    "            if isinstance (sgraph[k][l], str):\n",
    "                sgraph[k][l] = eval(sgraph[k][l])\n",
    "\n",
    "            else:\n",
    "                sgraph[k][l].astype(np.float64)\n",
    "                    \n",
    "    if key in ft:\n",
    "        tgraph = ft[key][:]\n",
    "        if a[0] not in tgraph_list:\n",
    "            tgraph_list[a[0]] = {}\n",
    "        tgraph_list[a[0]][int(a[1])] = tgraph\n",
    "    if a[0] not in sgraph_list:\n",
    "        sgraph_list[a[0]] = {}\n",
    "    sgraph_list[a[0]][int(a[1])] = sgraph"
   ]
  },
  {
   "cell_type": "code",
   "execution_count": 8,
   "metadata": {},
   "outputs": [],
   "source": [
    "# Load values from temporal graph\n",
    "for a in tgraph_list:\n",
    "    tgraph = tgraph_list[a]\n",
    "    for b in tgraph:\n",
    "        tgraph[b] = np.concatenate((np.expand_dims(tgraph[b], axis=2),np.zeros((num_object,num_object,1023))), axis=2)"
   ]
  },
  {
   "cell_type": "markdown",
   "metadata": {},
   "source": [
    "#### STGraph File Generation"
   ]
  },
  {
   "cell_type": "code",
   "execution_count": null,
   "metadata": {},
   "outputs": [],
   "source": [
    "num_object = 9 # Number of patches\n",
    "num_frame = 20 # Num of frames\n",
    "\n",
    "mpzeros = np.zeros((num_frame*num_object, num_frame*num_object, args.num_edge_feat))\n",
    "with open(save_file, 'ab+') as handle:\n",
    "    for k in tqdm(sgraph_list.keys(), total=len(sgraph_list.keys())):\n",
    "        mgraph = mpzeros\n",
    "        sorted_k = sorted(sgraph_list[k].keys())\n",
    "        for i,k_fr in enumerate(sorted_k):\n",
    "            s_start = i*num_object\n",
    "            s_end = (i*num_object)+num_object\n",
    "            t_start = s_start+num_object\n",
    "            t_end = s_start+(num_object*2)\n",
    "            \n",
    "            mgraph[s_start:s_end,s_start:s_end] = sgraph_list[k][k_fr]\n",
    "            if i<len(sorted_k)-1:\n",
    "                mgraph[s_start:s_end, t_start:t_end] =tgraph_list[k][sorted_k[i+1]]\n",
    "        s = {}\n",
    "        y = sparse.COO(mgraph)\n",
    "        s = {k:y}\n",
    "        pickle.dump(s, handle)"
   ]
  }
 ],
 "metadata": {
  "kernelspec": {
   "display_name": "Python 3",
   "language": "python",
   "name": "python3"
  },
  "language_info": {
   "codemirror_mode": {
    "name": "ipython",
    "version": 3
   },
   "file_extension": ".py",
   "mimetype": "text/x-python",
   "name": "python",
   "nbconvert_exporter": "python",
   "pygments_lexer": "ipython3",
   "version": "3.8.8"
  },
  "latex_envs": {
   "LaTeX_envs_menu_present": true,
   "autoclose": false,
   "autocomplete": true,
   "bibliofile": "biblio.bib",
   "cite_by": "apalike",
   "current_citInitial": 1,
   "eqLabelWithNumbers": true,
   "eqNumInitial": 1,
   "hotkeys": {
    "equation": "Ctrl-E",
    "itemize": "Ctrl-I"
   },
   "labels_anchors": false,
   "latex_user_defs": false,
   "report_style_numbering": false,
   "user_envs_cfg": false
  },
  "toc": {
   "base_numbering": 1,
   "nav_menu": {},
   "number_sections": true,
   "sideBar": true,
   "skip_h1_title": false,
   "title_cell": "Table of Contents",
   "title_sidebar": "Contents",
   "toc_cell": false,
   "toc_position": {},
   "toc_section_display": true,
   "toc_window_display": false
  },
  "varInspector": {
   "cols": {
    "lenName": 16,
    "lenType": 16,
    "lenVar": 40
   },
   "kernels_config": {
    "python": {
     "delete_cmd_postfix": "",
     "delete_cmd_prefix": "del ",
     "library": "var_list.py",
     "varRefreshCmd": "print(var_dic_list())"
    },
    "r": {
     "delete_cmd_postfix": ") ",
     "delete_cmd_prefix": "rm(",
     "library": "var_list.r",
     "varRefreshCmd": "cat(var_dic_list()) "
    }
   },
   "types_to_exclude": [
    "module",
    "function",
    "builtin_function_or_method",
    "instance",
    "_Feature"
   ],
   "window_display": false
  }
 },
 "nbformat": 4,
 "nbformat_minor": 4
}
