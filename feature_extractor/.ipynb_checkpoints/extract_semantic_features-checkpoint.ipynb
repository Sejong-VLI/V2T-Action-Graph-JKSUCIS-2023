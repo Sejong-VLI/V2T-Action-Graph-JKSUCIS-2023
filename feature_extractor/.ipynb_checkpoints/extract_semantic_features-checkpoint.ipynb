{
 "cells": [
  {
   "cell_type": "code",
   "execution_count": 1,
   "id": "95fce15a-edb5-4543-acf4-0732b2d9378b",
   "metadata": {},
   "outputs": [],
   "source": [
    "import numpy as np\n",
    "import pickle\n",
    "from tqdm import tqdm"
   ]
  },
  {
   "cell_type": "code",
   "execution_count": null,
   "id": "3580ab89-414a-499a-874b-0cff96a53ed0",
   "metadata": {},
   "outputs": [],
   "source": [
    "msvd = True"
   ]
  },
  {
   "cell_type": "code",
   "execution_count": 2,
   "id": "240d3636-b254-4f85-a239-9ce21e2d15cf",
   "metadata": {},
   "outputs": [],
   "source": [
    "# First, download semantic features data (msvd_semantic_tag_res_avg.npy or msrvtt_semantic_tag_eco_res_avg.npy)\n",
    "# from: \"\" from https://github.com/WingsBrokenAngel/delving-deeper-into-the-decoder-for-video-captioning\n",
    "# Then load the data here\n",
    "if msvd:\n",
    "    data_vnsgru = np.load(\"msvd_semantic_tag_res_avg.npy\")\n",
    "else:\n",
    "    data_vnsgru = np.load(\"msrvtt_semantic_tag_eco_res_avg.npy\")"
   ]
  },
  {
   "cell_type": "code",
   "execution_count": null,
   "id": "0ea86f0e-c014-4394-8f29-5d175f9284d0",
   "metadata": {},
   "outputs": [],
   "source": [
    "if msvd:\n",
    "    feat_path = \"extracted/msvd/MSVD_Clip4Clip_features.pickle\"\n",
    "else:\n",
    "    feat_path = \"extracted/msrvtt/MSRVTT_Clip4Clip_features.pickle\""
   ]
  },
  {
   "cell_type": "code",
   "execution_count": 2,
   "id": "b93c051c-99e7-48bb-a0fc-53d9fcc94642",
   "metadata": {},
   "outputs": [],
   "source": [
    "d = {}\n",
    "for i in tqdm(range(len(data_vnsgru))):\n",
    "    if msvd:\n",
    "        d['vid'+str(i+1)] = data_vnsgru[i]\n",
    "    else:\n",
    "        d['video'+str(i)] = data_vnsgru[i]"
   ]
  },
  {
   "cell_type": "code",
   "execution_count": 7,
   "id": "922581f8-75cb-4415-a2fc-7e47e1695500",
   "metadata": {},
   "outputs": [],
   "source": [
    "with open(feat_path, \"rb\") as f:\n",
    "    fe = pickle.load(f)"
   ]
  },
  {
   "cell_type": "code",
   "execution_count": 11,
   "id": "e2c2f524-50ea-41e4-b5d2-ca98f13658fb",
   "metadata": {},
   "outputs": [
    {
     "name": "stderr",
     "output_type": "stream",
     "text": [
      "100%|█████████████████████████████████████| 1970/1970 [00:01<00:00, 1867.95it/s]\n"
     ]
    }
   ],
   "source": [
    "d_new = {}\n",
    "if msvd:\n",
    "    zeroes =[0]*1300 # dimension of feat from vnsgru\n",
    "else:\n",
    "    zeroes =[0]*1700 # dimension of feat from vnsgru\n",
    "    \n",
    "for key in tqdm(fe):\n",
    "    temp = []\n",
    "    for i in range(len(fe[key])):\n",
    "        temp.append(d[key])\n",
    "    for i in range(20 - len(temp)):\n",
    "        temp.append(zeroes)\n",
    "    d_new[key] = np.array(temp)\n"
   ]
  },
  {
   "cell_type": "code",
   "execution_count": 130,
   "id": "75fc1be0-60a1-42aa-9fe1-82b03cf3564a",
   "metadata": {},
   "outputs": [],
   "source": [
    "if msvd:\n",
    "    sem_feat_path = \"extracted/msvd/msvd_semantic_feats.pickle\"\n",
    "else:\n",
    "    sem_feat_path = \"extracted/msrvtt/msrvtt_semantic_feats.pickle\""
   ]
  },
  {
   "cell_type": "code",
   "execution_count": 131,
   "id": "c5f6f28d-2029-4e89-8db3-a5d3092910f7",
   "metadata": {},
   "outputs": [],
   "source": [
    "with open(sem_feat_path, \"wb\") as f:\n",
    "    pickle.dump(d_new, f)"
   ]
  },
  {
   "cell_type": "code",
   "execution_count": null,
   "id": "d0e5b199-99dd-4e65-b0d6-a460ebf589bc",
   "metadata": {},
   "outputs": [],
   "source": []
  },
  {
   "cell_type": "code",
   "execution_count": null,
   "id": "af30a897-4008-4ae2-b985-4535997b0c3a",
   "metadata": {},
   "outputs": [],
   "source": []
  },
  {
   "cell_type": "code",
   "execution_count": null,
   "id": "10a66ddf-55f3-4dc4-b542-3ee392a57f77",
   "metadata": {},
   "outputs": [],
   "source": []
  },
  {
   "cell_type": "code",
   "execution_count": null,
   "id": "885ba3f9-dd5e-4abc-9562-d98d4f73f054",
   "metadata": {},
   "outputs": [],
   "source": []
  },
  {
   "cell_type": "code",
   "execution_count": null,
   "id": "fb6bac69-b571-4ea1-a9cc-1f100d65071f",
   "metadata": {},
   "outputs": [],
   "source": []
  },
  {
   "cell_type": "code",
   "execution_count": null,
   "id": "8ca4cdc8-d1e3-45d6-aeec-6ff2a796e77a",
   "metadata": {},
   "outputs": [],
   "source": []
  },
  {
   "cell_type": "code",
   "execution_count": null,
   "id": "557b1664-fce9-4bb7-956d-b66f5bccceb4",
   "metadata": {},
   "outputs": [],
   "source": []
  },
  {
   "cell_type": "code",
   "execution_count": null,
   "id": "d1db6e45-f56d-4994-b44e-abaa2c1ca081",
   "metadata": {},
   "outputs": [],
   "source": []
  },
  {
   "cell_type": "code",
   "execution_count": null,
   "id": "5a312142-6f93-4ba0-9c8a-e68c89a2d7eb",
   "metadata": {},
   "outputs": [],
   "source": []
  },
  {
   "cell_type": "code",
   "execution_count": null,
   "id": "498c4139-4d9d-43ea-96ec-8347872cb35e",
   "metadata": {},
   "outputs": [],
   "source": []
  }
 ],
 "metadata": {
  "kernelspec": {
   "display_name": "Python 3",
   "language": "python",
   "name": "python3"
  },
  "language_info": {
   "codemirror_mode": {
    "name": "ipython",
    "version": 3
   },
   "file_extension": ".py",
   "mimetype": "text/x-python",
   "name": "python",
   "nbconvert_exporter": "python",
   "pygments_lexer": "ipython3",
   "version": "3.8.8"
  }
 },
 "nbformat": 4,
 "nbformat_minor": 5
}
