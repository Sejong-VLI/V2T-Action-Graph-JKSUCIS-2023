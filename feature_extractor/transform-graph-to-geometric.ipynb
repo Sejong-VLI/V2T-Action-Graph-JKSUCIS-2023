{
 "cells": [
  {
   "cell_type": "code",
   "execution_count": null,
   "id": "bf02251b-9030-41a2-9503-77068d561c45",
   "metadata": {
    "pycharm": {
     "name": "#%%\n"
    }
   },
   "outputs": [],
   "source": [
    "import torch\n",
    "import pickle\n",
    "import itertools\n",
    "import h5py\n",
    "import random\n",
    "\n",
    "import networkx as nx\n",
    "import numpy as np\n",
    "import pandas as pd\n",
    "\n",
    "from tqdm import tqdm\n",
    "from torch_geometric.data import Data\n",
    "from torch_geometric.utils import to_networkx\n",
    "from utility.util import stack_node_features\n",
    "\n",
    "import pathlib\n",
    "import numpy as np\n",
    "import sparse\n",
    "import sparse\n",
    "import gc"
   ]
  },
  {
   "cell_type": "markdown",
   "source": [
    "## Data Preparation"
   ],
   "metadata": {
    "collapsed": false,
    "pycharm": {
     "name": "#%% md\n"
    }
   }
  },
  {
   "cell_type": "code",
   "execution_count": null,
   "id": "72e57e03-46d8-4994-b712-ce951cfa6d48",
   "metadata": {
    "pycharm": {
     "name": "#%%\n"
    }
   },
   "outputs": [],
   "source": [
    "# Arguments\n",
    "class args:\n",
    "    dataset = 'msrvtt' # or dataset = 'msvd'"
   ]
  },
  {
   "cell_type": "code",
   "execution_count": null,
   "id": "5186b78b-0d58-4ecd-83a5-274f4fb1d8d9",
   "metadata": {
    "pycharm": {
     "name": "#%%\n"
    }
   },
   "outputs": [],
   "source": [
    "# Set configuration\n",
    "path_to_saved_models = \"extracted/\"+args.dataset\n",
    "pathlib.Path(path_to_saved_models).mkdir(parents=True, exist_ok=True)\n",
    "stg_file =path_to_saved_models+'/<Path to spatio temporal graph>.hdf5'\n",
    "fo_file =path_to_saved_models+'/<Path to node features>.hdf5'"
   ]
  },
  {
   "cell_type": "code",
   "execution_count": null,
   "id": "6da53f15-0f7b-46a4-9325-b4738fc06da4",
   "metadata": {
    "tags": [],
    "pycharm": {
     "name": "#%%\n"
    }
   },
   "outputs": [],
   "source": [
    "# Prepare action data\n",
    "stg = []\n",
    "with (open(stg_file, \"rb\")) as openfile:\n",
    "    while True:\n",
    "        try:\n",
    "            stg.append(pickle.load(openfile))\n",
    "            if len(stg)==10000:\n",
    "                break\n",
    "        except EOFError:\n",
    "            break"
   ]
  },
  {
   "cell_type": "markdown",
   "source": [
    "# Prepare graph feature"
   ],
   "metadata": {
    "collapsed": false,
    "pycharm": {
     "name": "#%% md\n"
    }
   }
  },
  {
   "cell_type": "code",
   "execution_count": null,
   "id": "dfa8acab-6f25-4e59-bc5a-fb75f3659ef2",
   "metadata": {
    "tags": [],
    "pycharm": {
     "name": "#%%\n"
    }
   },
   "outputs": [],
   "source": [
    "# Stack object feature\n",
    "fo = stack_node_features(fo_file)"
   ]
  },
  {
   "cell_type": "code",
   "execution_count": null,
   "id": "7a37cfba-e96f-4888-a039-d27f6768c73f",
   "metadata": {
    "pycharm": {
     "name": "#%%\n"
    }
   },
   "outputs": [],
   "source": [
    "def generate_graph_data(stg_vid, fo_vid):\n",
    "    \"\"\"Generate graph data for every vid_id STG & FO\"\"\"\n",
    "    t =[]\n",
    "    attr =[]\n",
    "    n_rows = stg_vid.shape[0]\n",
    "    n_columns = stg_vid.shape[1]\n",
    "    n_dim_feature = stg_vid.shape[2]\n",
    "    n_dim_fo = fo_vid.shape[1]\n",
    "    \n",
    "    allzero = False\n",
    "    \n",
    "    # Edge index\n",
    "    edge_index = torch.tensor(list(map(list, itertools.product(np.arange(n_rows), repeat=2))), dtype=torch.long)\n",
    "      \n",
    "    # Edge feature\n",
    "    edge_attr = torch.tensor(stg_vid.todense()[:n_rows, :n_columns], dtype=torch.float).reshape(n_rows * n_columns, n_dim_feature)\n",
    "\n",
    "    for i in range (len(edge_attr)):\n",
    "        allzero = torch.sum(edge_attr[i])\n",
    "        if allzero > 0:\n",
    "            t.append(edge_index[i])\n",
    "            attr.append(edge_attr[i])\n",
    "\n",
    "    # Node feature\n",
    "    if(len(t)==0):\n",
    "        v=edge_index[0].unsqueeze(0)\n",
    "        attr = edge_attr[0].unsqueeze(0)\n",
    "        allzero = True\n",
    "    else:\n",
    "        v = torch.stack(t)\n",
    "        attr = torch.stack(attr)\n",
    "   \n",
    "    x = torch.tensor(fo_vid[:n_rows], dtype=torch.float)\n",
    "\n",
    "\n",
    "    # Generate the graph\n",
    "    data = Data(x=x, edge_index=v.t().contiguous(), edge_attr=attr)\n",
    "    del attr\n",
    "    del v\n",
    "    del t\n",
    "    \n",
    "    return data,allzero"
   ]
  },
  {
   "cell_type": "code",
   "execution_count": null,
   "id": "7c640d2c-8005-41ec-af94-ec098089a623",
   "metadata": {
    "scrolled": true,
    "tags": [],
    "pycharm": {
     "name": "#%%\n"
    }
   },
   "outputs": [],
   "source": [
    "# Sort the STGraph vid_id\n",
    "if args.dataset == 'msvd':\n",
    "    ids = [int(list(x.keys())[0].split(\"vid\")[1]) for x in stg]\n",
    "else:\n",
    "    ids = [int(list(x.keys())[0].split(\"video\")[1]) for x in stg] \n",
    "contents = stg.copy()\n",
    "stg = [x for _,x in sorted(zip(ids,contents))]\n",
    "stg[:5], stg[-5:]"
   ]
  },
  {
   "cell_type": "code",
   "execution_count": null,
   "id": "436a79b6-bebd-4cc1-9828-34f55e0beb94",
   "metadata": {
    "scrolled": true,
    "tags": [],
    "pycharm": {
     "name": "#%%\n"
    }
   },
   "outputs": [],
   "source": [
    "# Generate Pytorch geometric data\n",
    "datas = {}\n",
    "index=[]\n",
    "for i in tqdm(range(len(stg))):\n",
    "    if args.dataset == 'msvd':\n",
    "        id = 'vid' + str(i+1)\n",
    "    else:\n",
    "        id = 'video' + str(i)\n",
    "    stg_vid = stg[i][id]\n",
    "\n",
    "    fo_vid = fo[id]\n",
    "\n",
    "    datas[id],allzero = generate_graph_data(stg_vid, fo_vid)\n",
    "    if allzero:\n",
    "        index.append(i)\n"
   ]
  },
  {
   "cell_type": "markdown",
   "source": [
    "## Generate Pytorch Geometric-based Graph Structure"
   ],
   "metadata": {
    "collapsed": false,
    "pycharm": {
     "name": "#%% md\n"
    }
   }
  },
  {
   "cell_type": "code",
   "execution_count": null,
   "id": "a5fef3f6-11a5-4cdc-9ae0-1f34c81269b1",
   "metadata": {
    "pycharm": {
     "name": "#%%\n"
    }
   },
   "outputs": [],
   "source": [
    "# Save memory by deleting previous data (if the cell has been run multiple times)\n",
    "stg = None\n",
    "fo = None\n",
    "contents = None\n",
    "ids = None\n",
    "del stg\n",
    "del fo\n",
    "del contents\n",
    "del ids\n",
    "gc.collect()"
   ]
  },
  {
   "cell_type": "code",
   "execution_count": null,
   "id": "bdccf133-a9b5-42e3-907c-f251cae5b0d0",
   "metadata": {
    "pycharm": {
     "name": "#%%\n"
    }
   },
   "outputs": [],
   "source": [
    "# Generate the data structure\n",
    "num_object = 9\n",
    "num_edge_features = 1024\n",
    "num_frame = 20\n",
    "num_node = num_object*num_frame\n",
    "max_ = 0\n",
    "\n",
    "for key in datas.keys():\n",
    "    datas[key].edge_attr = sparse.COO(np.array(datas[key].edge_attr))\n",
    "\n",
    "for g in datas:\n",
    "    max_ = max(datas[g].edge_index.shape[1], max_)\n",
    "    \n",
    "hmap = {}\n",
    "for g in tqdm(datas):\n",
    "    for i in range(datas[g].edge_index.shape[1]):\n",
    "        key = str(g)+'-'+str(datas[g].edge_index[0][i].item())+'-'+str(datas[g].edge_index[1][i].item())\n",
    "        hmap[key] = 1\n",
    "\n",
    "for g in tqdm(datas):\n",
    "    curr_size = datas[g].edge_index.shape[1]\n",
    "    \n",
    "    if curr_size < max_:\n",
    "        counter = max_ - curr_size\n",
    "        done = False\n",
    "        if type(datas[g].edge_attr)!=np.ndarray:\n",
    "            datas[g].edge_attr = datas[g].edge_attr.todense()\n",
    "        for i in range(num_node):\n",
    "            for j in range(num_node):\n",
    "                key = str(g)+str(i)+'-'+str(j)\n",
    "                if (key in hmap) == False:\n",
    "                    datas[g].edge_index = torch.hstack((datas[g].edge_index, torch.tensor([[i],[j]])))\n",
    "                    datas[g].edge_attr = np.vstack((datas[g].edge_attr,np.zeros(num_edge_features)))\n",
    "                    counter -= 1\n",
    "                    \n",
    "                    if counter==0:\n",
    "                        done =True\n",
    "                        break\n",
    "            if done:\n",
    "                break\n",
    "        datas[g].edge_attr = sparse.COO(datas[g].edge_attr)\n",
    "        \n"
   ]
  },
  {
   "cell_type": "code",
   "execution_count": null,
   "id": "730c5730-fe25-4af4-a7cf-04f05448d099",
   "metadata": {
    "pycharm": {
     "name": "#%%\n"
    }
   },
   "outputs": [],
   "source": [
    "# Save\n",
    "action_graph = path_to_saved_models+'/<desired file name>.pickle'\n",
    "with open(action_graph, 'wb') as fp:\n",
    "     pickle.dump(datas, fp)\n",
    "        \n",
    "print(\"SPATIO TEMPORAL ACTION GRAPH SUCCESSFULLY SAFE\")\n"
   ]
  }
 ],
 "metadata": {
  "kernelspec": {
   "display_name": "Python 3",
   "language": "python",
   "name": "python3"
  },
  "language_info": {
   "codemirror_mode": {
    "name": "ipython",
    "version": 3
   },
   "file_extension": ".py",
   "mimetype": "text/x-python",
   "name": "python",
   "nbconvert_exporter": "python",
   "pygments_lexer": "ipython3",
   "version": "3.8.8"
  }
 },
 "nbformat": 4,
 "nbformat_minor": 5
}